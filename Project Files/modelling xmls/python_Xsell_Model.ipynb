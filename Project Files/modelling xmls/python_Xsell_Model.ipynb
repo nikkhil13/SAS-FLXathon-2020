{
 "cells": [
  {
   "cell_type": "markdown",
   "metadata": {},
   "source": [
    "### This jupyter notebook walks you through how to build a model in Python and deploy it in SAS Intelligent Decisioning"
   ]
  },
  {
   "cell_type": "code",
   "execution_count": 1,
   "metadata": {
    "collapsed": true
   },
   "outputs": [],
   "source": [
    "import pandas as pd"
   ]
  },
  {
   "cell_type": "code",
   "execution_count": 2,
   "metadata": {
    "collapsed": true
   },
   "outputs": [],
   "source": [
    "df = pd.read_csv(r'C:\\Users\\sinnsr\\OneDrive - SAS\\FLXathon 2020\\gitlab\\alpha-bravo-charlie\\datasets\\python_xsell_data.csv')"
   ]
  },
  {
   "cell_type": "markdown",
   "metadata": {},
   "source": [
    "Make sure to put the _r'_ in the above pd.read_csv() function. While scoring in ID, it works because the execution is in CAS. But while publishing, the execution is in MAS that behave a bit differently."
   ]
  },
  {
   "cell_type": "code",
   "execution_count": 3,
   "metadata": {
    "collapsed": true
   },
   "outputs": [],
   "source": [
    "from sklearn.ensemble import RandomForestClassifier\n",
    "from sklearn.impute import SimpleImputer\n",
    "from sklearn.pipeline import Pipeline\n",
    "import numpy as np"
   ]
  },
  {
   "cell_type": "code",
   "execution_count": 4,
   "metadata": {
    "collapsed": true
   },
   "outputs": [],
   "source": [
    "X=df[[\"Claim_Amt\",\"Current_Premium\",\"Car_Price\",\"Car_Age\",\"Rating_Category\"]]"
   ]
  },
  {
   "cell_type": "code",
   "execution_count": 5,
   "metadata": {},
   "outputs": [
    {
     "data": {
      "text/html": [
       "<div>\n",
       "<style scoped>\n",
       "    .dataframe tbody tr th:only-of-type {\n",
       "        vertical-align: middle;\n",
       "    }\n",
       "\n",
       "    .dataframe tbody tr th {\n",
       "        vertical-align: top;\n",
       "    }\n",
       "\n",
       "    .dataframe thead th {\n",
       "        text-align: right;\n",
       "    }\n",
       "</style>\n",
       "<table border=\"1\" class=\"dataframe\">\n",
       "  <thead>\n",
       "    <tr style=\"text-align: right;\">\n",
       "      <th></th>\n",
       "      <th>Claim_Amt</th>\n",
       "      <th>Current_Premium</th>\n",
       "      <th>Car_Price</th>\n",
       "      <th>Car_Age</th>\n",
       "      <th>Rating_Category</th>\n",
       "    </tr>\n",
       "  </thead>\n",
       "  <tbody>\n",
       "    <tr>\n",
       "      <th>0</th>\n",
       "      <td>1300</td>\n",
       "      <td>70053.0</td>\n",
       "      <td>68400.0</td>\n",
       "      <td>7.0</td>\n",
       "      <td>NaN</td>\n",
       "    </tr>\n",
       "    <tr>\n",
       "      <th>1</th>\n",
       "      <td>1700</td>\n",
       "      <td>97800.0</td>\n",
       "      <td>112000.0</td>\n",
       "      <td>3.0</td>\n",
       "      <td>NaN</td>\n",
       "    </tr>\n",
       "    <tr>\n",
       "      <th>2</th>\n",
       "      <td>1700</td>\n",
       "      <td>30548.0</td>\n",
       "      <td>40320.0</td>\n",
       "      <td>9.0</td>\n",
       "      <td>37.113614</td>\n",
       "    </tr>\n",
       "    <tr>\n",
       "      <th>3</th>\n",
       "      <td>2000</td>\n",
       "      <td>22608.0</td>\n",
       "      <td>NaN</td>\n",
       "      <td>18.0</td>\n",
       "      <td>NaN</td>\n",
       "    </tr>\n",
       "    <tr>\n",
       "      <th>4</th>\n",
       "      <td>2000</td>\n",
       "      <td>45000.0</td>\n",
       "      <td>55000.0</td>\n",
       "      <td>3.0</td>\n",
       "      <td>NaN</td>\n",
       "    </tr>\n",
       "  </tbody>\n",
       "</table>\n",
       "</div>"
      ],
      "text/plain": [
       "   Claim_Amt  Current_Premium  Car_Price  Car_Age  Rating_Category\n",
       "0       1300          70053.0    68400.0      7.0              NaN\n",
       "1       1700          97800.0   112000.0      3.0              NaN\n",
       "2       1700          30548.0    40320.0      9.0        37.113614\n",
       "3       2000          22608.0        NaN     18.0              NaN\n",
       "4       2000          45000.0    55000.0      3.0              NaN"
      ]
     },
     "execution_count": 5,
     "metadata": {},
     "output_type": "execute_result"
    }
   ],
   "source": [
    "X.head()"
   ]
  },
  {
   "cell_type": "code",
   "execution_count": 6,
   "metadata": {
    "collapsed": true
   },
   "outputs": [],
   "source": [
    "colmmn_list = ['Claim_Amt','Current_Premium','Car_Price','Car_Age','Rating_Category']"
   ]
  },
  {
   "cell_type": "code",
   "execution_count": 7,
   "metadata": {},
   "outputs": [
    {
     "name": "stdout",
     "output_type": "stream",
     "text": [
      "0.22\n"
     ]
    }
   ],
   "source": [
    "import sklearn\n",
    "print(sklearn.__version__)"
   ]
  },
  {
   "cell_type": "code",
   "execution_count": 8,
   "metadata": {
    "collapsed": true
   },
   "outputs": [],
   "source": [
    "from sklearn_pandas import DataFrameMapper"
   ]
  },
  {
   "cell_type": "code",
   "execution_count": 9,
   "metadata": {
    "collapsed": true
   },
   "outputs": [],
   "source": [
    "from sklearn.ensemble import RandomForestRegressor"
   ]
  },
  {
   "cell_type": "code",
   "execution_count": 10,
   "metadata": {
    "collapsed": true
   },
   "outputs": [],
   "source": [
    "RFclassifier = RandomForestRegressor(n_estimators = 100, max_depth=2, random_state=54321)"
   ]
  },
  {
   "cell_type": "markdown",
   "metadata": {},
   "source": [
    "#### Fit the model"
   ]
  },
  {
   "cell_type": "code",
   "execution_count": 11,
   "metadata": {
    "collapsed": true
   },
   "outputs": [],
   "source": [
    "pipeline_reg = Pipeline([\n",
    "     #Step1 - normalize data\n",
    "    ('mapper',  DataFrameMapper([\n",
    "                  ([\"Claim_Amt\",\"Current_Premium\",\"Car_Price\",\"Car_Age\",\"Rating_Category\"], [SimpleImputer(missing_values = np.nan , strategy = 'median')])\n",
    "    ])),   \n",
    "    \n",
    "    ('classifier',RFclassifier) #step2 - classifier\n",
    "])"
   ]
  },
  {
   "cell_type": "code",
   "execution_count": 12,
   "metadata": {},
   "outputs": [
    {
     "data": {
      "text/plain": [
       "Pipeline(memory=None,\n",
       "         steps=[('mapper',\n",
       "                 DataFrameMapper(default=False, df_out=False,\n",
       "                                 features=[(['Claim_Amt', 'Current_Premium',\n",
       "                                             'Car_Price', 'Car_Age',\n",
       "                                             'Rating_Category'],\n",
       "                                            [SimpleImputer(add_indicator=False,\n",
       "                                                           copy=True,\n",
       "                                                           fill_value=None,\n",
       "                                                           missing_values=nan,\n",
       "                                                           strategy='median',\n",
       "                                                           verbose=0)])],\n",
       "                                 input_df=False, sparse=False)),\n",
       "                ('classifier',\n",
       "                 RandomForestRegressor(bootstrap=True, ccp_alpha=0.0,\n",
       "                                       criterion='mse', max_depth=2,\n",
       "                                       max_features='auto', max_leaf_nodes=None,\n",
       "                                       max_samples=None,\n",
       "                                       min_impurity_decrease=0.0,\n",
       "                                       min_impurity_split=None,\n",
       "                                       min_samples_leaf=1, min_samples_split=2,\n",
       "                                       min_weight_fraction_leaf=0.0,\n",
       "                                       n_estimators=100, n_jobs=None,\n",
       "                                       oob_score=False, random_state=54321,\n",
       "                                       verbose=0, warm_start=False))],\n",
       "         verbose=False)"
      ]
     },
     "execution_count": 12,
     "metadata": {},
     "output_type": "execute_result"
    }
   ],
   "source": [
    "pipeline_reg.fit(X,df[\"Offer_Score\"])"
   ]
  },
  {
   "cell_type": "markdown",
   "metadata": {},
   "source": [
    "#### Export the Model pickle file. Copy this file to a server location which SAS ID can access "
   ]
  },
  {
   "cell_type": "code",
   "execution_count": 35,
   "metadata": {
    "collapsed": true
   },
   "outputs": [],
   "source": [
    "import pickle \n",
    "pklfile = open(\"RForest_XSELLreg_obj.pkl\",'wb')\n",
    "pickle.dump(pipeline_reg, pklfile)\n",
    "pklfile.close()"
   ]
  },
  {
   "cell_type": "markdown",
   "metadata": {
    "collapsed": true
   },
   "source": [
    "### Go to SAS Intelligent Decisioning. Make a sample Decision. Add a python code file in SAS ID and copy the below code inside it."
   ]
  },
  {
   "cell_type": "code",
   "execution_count": null,
   "metadata": {
    "collapsed": true
   },
   "outputs": [],
   "source": [
    "''' List all output parameters as comma-separated values in the \"Output:\" docString. Do not specify \"None\" if there is no output parameter. '''\n",
    "\n",
    "import pandas as pd\n",
    "import pickle\n",
    "\n",
    "colmmn_list = ['Claim_Amt','Current_Premium','Car_Price','Car_Age','Rating_Category']\n",
    "\n",
    "pickle_location = '/home/sasdemo/RForest_XSELLreg_obj.pkl'\n",
    "\n",
    "loaded_model = pickle.load(open(pickle_location, 'rb'))\n",
    "\n",
    "\n",
    "def execute (Claim_Amt, Current_Premium, Car_Price, Car_Age, Rating_Category):\n",
    "   'Output: result'\n",
    "   df = pd.DataFrame([[Claim_Amt, Current_Premium, Car_Price, Car_Age, Rating_Category]], columns=colmmn_list)\n",
    "   result1 = loaded_model.predict(df)\n",
    "   result = float(round(result1[0],4))\n",
    "   #result = 5\n",
    "   return result\n"
   ]
  },
  {
   "cell_type": "markdown",
   "metadata": {},
   "source": [
    "##### The above code will run the predict funciton using the pkl file and operationlize your model in a governed environment like SAS ID"
   ]
  }
 ],
 "metadata": {
  "kernelspec": {
   "display_name": "Python 3",
   "language": "python",
   "name": "python3"
  },
  "language_info": {
   "codemirror_mode": {
    "name": "ipython",
    "version": 3
   },
   "file_extension": ".py",
   "mimetype": "text/x-python",
   "name": "python",
   "nbconvert_exporter": "python",
   "pygments_lexer": "ipython3",
   "version": "3.5.4"
  }
 },
 "nbformat": 4,
 "nbformat_minor": 2
}
